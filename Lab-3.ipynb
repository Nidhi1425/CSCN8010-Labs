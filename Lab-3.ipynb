{
 "cells": [
  {
   "cell_type": "code",
   "execution_count": 1,
   "metadata": {},
   "outputs": [
    {
     "ename": "ModuleNotFoundError",
     "evalue": "No module named 'tensorflow'",
     "output_type": "error",
     "traceback": [
      "\u001b[1;31m---------------------------------------------------------------------------\u001b[0m",
      "\u001b[1;31mModuleNotFoundError\u001b[0m                       Traceback (most recent call last)",
      "Cell \u001b[1;32mIn[1], line 1\u001b[0m\n\u001b[1;32m----> 1\u001b[0m \u001b[38;5;28;01mimport\u001b[39;00m \u001b[38;5;21;01mtensorflow\u001b[39;00m \u001b[38;5;28;01mas\u001b[39;00m \u001b[38;5;21;01mtf\u001b[39;00m\n\u001b[0;32m      2\u001b[0m \u001b[38;5;28;01mfrom\u001b[39;00m \u001b[38;5;21;01mtensorflow\u001b[39;00m\u001b[38;5;21;01m.\u001b[39;00m\u001b[38;5;21;01mkeras\u001b[39;00m \u001b[38;5;28;01mimport\u001b[39;00m layers, models\n\u001b[0;32m      3\u001b[0m \u001b[38;5;28;01mimport\u001b[39;00m \u001b[38;5;21;01mmatplotlib\u001b[39;00m\u001b[38;5;21;01m.\u001b[39;00m\u001b[38;5;21;01mpyplot\u001b[39;00m \u001b[38;5;28;01mas\u001b[39;00m \u001b[38;5;21;01mplt\u001b[39;00m\n",
      "\u001b[1;31mModuleNotFoundError\u001b[0m: No module named 'tensorflow'"
     ]
    }
   ],
   "source": [
    "import tensorflow as tf\n",
    "from tensorflow.keras import layers, models\n",
    "import matplotlib.pyplot as plt\n",
    "import numpy as np\n",
    "import os\n",
    "from sklearn.metrics import confusion_matrix, classification_report, precision_recall_curve, ConfusionMatrixDisplay, PrecisionRecallDisplay\n",
    "import seaborn as sns\n",
    "from pathlib import Path\n"
   ]
  },
  {
   "cell_type": "code",
   "execution_count": null,
   "metadata": {},
   "outputs": [],
   "source": [
    "# Define base directory\n",
    "data_dir = Path(\"D:/datasets/cats_dogs\")\n",
    "\n",
    "# Subset data\n",
    "def create_subset(source_dir, target_dir, start_idx, end_idx):\n",
    "    os.makedirs(target_dir, exist_ok=True)\n",
    "    for label in ['cat', 'dog']:\n",
    "        label_dir = os.path.join(target_dir, label)\n",
    "        os.makedirs(label_dir, exist_ok=True)\n",
    "        for i in range(start_idx, end_idx):\n",
    "            src_file = os.path.join(source_dir, f\"{label}.{i}.jpg\")\n",
    "            dst_file = os.path.join(label_dir, f\"{label}.{i}.jpg\")\n",
    "            if os.path.exists(src_file):\n",
    "                os.rename(src_file, dst_file)\n",
    "\n",
    "base_dir = Path(\"D:/datasets/cats_dogs_small\")\n",
    "create_subset(data_dir, base_dir / 'train', 0, 1000)\n",
    "create_subset(data_dir, base_dir / 'validation', 1000, 1500)\n",
    "create_subset(data_dir, base_dir / 'test', 1500, 2000)\n"
   ]
  },
  {
   "cell_type": "code",
   "execution_count": null,
   "metadata": {},
   "outputs": [],
   "source": [
    "train_dir = base_dir / \"train\"\n",
    "\n",
    "class_counts = {folder.name: len(list(folder.glob(\"*.jpg\"))) for folder in train_dir.iterdir()}\n",
    "sns.barplot(x=list(class_counts.keys()), y=list(class_counts.values()))\n",
    "plt.title(\"Class Distribution\")\n",
    "plt.xlabel(\"Class\")\n",
    "plt.ylabel(\"Image Count\")\n",
    "plt.show()\n"
   ]
  },
  {
   "cell_type": "code",
   "execution_count": null,
   "metadata": {},
   "outputs": [],
   "source": [
    "# Load datasets\n",
    "train_ds = tf.keras.utils.image_dataset_from_directory(base_dir / \"train\", image_size=(224, 224), batch_size=32)\n",
    "val_ds = tf.keras.utils.image_dataset_from_directory(base_dir / \"validation\", image_size=(224, 224), batch_size=32)\n",
    "test_ds = tf.keras.utils.image_dataset_from_directory(base_dir / \"test\", image_size=(224, 224), batch_size=32)\n",
    "\n",
    "# Normalize data\n",
    "normalization_layer = layers.Rescaling(1./255)\n",
    "train_ds = train_ds.map(lambda x, y: (normalization_layer(x), y))\n",
    "val_ds = val_ds.map(lambda x, y: (normalization_layer(x), y))\n",
    "test_ds = test_ds.map(lambda x, y: (normalization_layer(x), y))\n"
   ]
  },
  {
   "cell_type": "code",
   "execution_count": null,
   "metadata": {},
   "outputs": [],
   "source": [
    "# Define CNN\n",
    "cnn_model = models.Sequential([\n",
    "    layers.Conv2D(32, (3, 3), activation='relu', input_shape=(224, 224, 3)),\n",
    "    layers.MaxPooling2D((2, 2)),\n",
    "    layers.Conv2D(64, (3, 3), activation='relu'),\n",
    "    layers.MaxPooling2D((2, 2)),\n",
    "    layers.Conv2D(128, (3, 3), activation='relu'),\n",
    "    layers.MaxPooling2D((2, 2)),\n",
    "    layers.Flatten(),\n",
    "    layers.Dropout(0.5),\n",
    "    layers.Dense(128, activation='relu'),\n",
    "    layers.Dense(1, activation='sigmoid')\n",
    "])\n",
    "\n",
    "cnn_model.compile(optimizer='adam', loss='binary_crossentropy', metrics=['accuracy'])\n",
    "\n",
    "cnn_callbacks = [\n",
    "    tf.keras.callbacks.ModelCheckpoint(\"cnn_best_model.h5\", save_best_only=True, monitor=\"val_loss\")\n",
    "]\n",
    "\n",
    "# Train CNN\n",
    "cnn_history = cnn_model.fit(train_ds, epochs=20, validation_data=val_ds, callbacks=cnn_callbacks)\n"
   ]
  },
  {
   "cell_type": "code",
   "execution_count": null,
   "metadata": {},
   "outputs": [],
   "source": [
    "# Load Pre-trained VGG16\n",
    "vgg16_base = tf.keras.applications.VGG16(weights='imagenet', include_top=False, input_shape=(224, 224, 3))\n",
    "vgg16_base.trainable = False\n",
    "\n",
    "# Add custom classifier\n",
    "vgg16_model = models.Sequential([\n",
    "    vgg16_base,\n",
    "    layers.Flatten(),\n",
    "    layers.Dense(256, activation='relu'),\n",
    "    layers.Dropout(0.5),\n",
    "    layers.Dense(1, activation='sigmoid')\n",
    "])\n",
    "\n",
    "vgg16_model.compile(optimizer=tf.keras.optimizers.Adam(1e-4), loss='binary_crossentropy', metrics=['accuracy'])\n",
    "\n",
    "vgg16_callbacks = [\n",
    "    tf.keras.callbacks.ModelCheckpoint(\"vgg16_best_model.h5\", save_best_only=True, monitor=\"val_loss\")\n",
    "]\n",
    "\n",
    "# Train VGG16\n",
    "vgg16_history = vgg16_model.fit(train_ds, epochs=15, validation_data=val_ds, callbacks=vgg16_callbacks)\n"
   ]
  },
  {
   "cell_type": "code",
   "execution_count": null,
   "metadata": {},
   "outputs": [],
   "source": [
    "cnn_model = tf.keras.models.load_model(\"cnn_best_model.h5\")\n",
    "vgg16_model = tf.keras.models.load_model(\"vgg16_best_model.h5\")\n"
   ]
  },
  {
   "cell_type": "code",
   "execution_count": null,
   "metadata": {},
   "outputs": [],
   "source": [
    "for model, name in [(cnn_model, \"CNN\"), (vgg16_model, \"VGG16\")]:\n",
    "    test_loss, test_acc = model.evaluate(test_ds)\n",
    "    print(f\"{name} Test Accuracy: {test_acc:.2f}\")\n",
    "\n",
    "    # Predictions\n",
    "    true_labels = np.concatenate([y for _, y in test_ds], axis=0)\n",
    "    pred_probs = model.predict(test_ds).ravel()\n",
    "    preds = (pred_probs > 0.5).astype(int)\n",
    "\n",
    "    # Confusion Matrix\n",
    "    cm = confusion_matrix(true_labels, preds)\n",
    "    ConfusionMatrixDisplay(cm, display_labels=[\"Cat\", \"Dog\"]).plot(cmap=\"Blues\")\n",
    "    plt.title(f\"{name} Confusion Matrix\")\n",
    "    plt.show()\n",
    "\n",
    "    # Classification Report\n",
    "    print(f\"{name} Classification Report:\")\n",
    "    print(classification_report(true_labels, preds, target_names=[\"Cat\", \"Dog\"]))\n",
    "\n",
    "    # Precision-Recall Curve\n",
    "    precision, recall, _ = precision_recall_curve(true_labels, pred_probs)\n",
    "    PrecisionRecallDisplay(precision=precision, recall=recall).plot()\n",
    "    plt.title(f\"{name} Precision-Recall Curve\")\n",
    "    plt.show()\n"
   ]
  },
  {
   "cell_type": "code",
   "execution_count": null,
   "metadata": {},
   "outputs": [],
   "source": [
    "for model, name in [(cnn_model, \"CNN\"), (vgg16_model, \"VGG16\")]:\n",
    "    misclassified_idx = np.where(true_labels != preds)[0]\n",
    "    print(f\"{name} Misclassified Samples: {len(misclassified_idx)}\")\n",
    "    for i, idx in enumerate(misclassified_idx[:5]):  # Show up to 5 examples\n",
    "        image, label = test_ds.unbatch().as_numpy_iterator().__next__()\n",
    "        plt.imshow(image.astype(\"uint8\"))\n",
    "        plt.title(f\"True: {'Dog' if true_labels[idx] else 'Cat'}, Pred: {'Dog' if preds[idx] else 'Cat'}\")\n",
    "        plt.axis(\"off\")\n",
    "        plt.show()\n"
   ]
  }
 ],
 "metadata": {
  "kernelspec": {
   "display_name": "Python 3",
   "language": "python",
   "name": "python3"
  },
  "language_info": {
   "codemirror_mode": {
    "name": "ipython",
    "version": 3
   },
   "file_extension": ".py",
   "mimetype": "text/x-python",
   "name": "python",
   "nbconvert_exporter": "python",
   "pygments_lexer": "ipython3",
   "version": "3.13.0"
  }
 },
 "nbformat": 4,
 "nbformat_minor": 2
}
